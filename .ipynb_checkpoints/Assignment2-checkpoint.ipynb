{
 "cells": [
  {
   "cell_type": "code",
   "execution_count": 11,
   "metadata": {
    "collapsed": false
   },
   "outputs": [],
   "source": [
    "import numpy as np\n",
    "import logging\n",
    "\n",
    "# Latice size\n",
    "n = 50\n",
    "# Temptation payoff\n",
    "temp = 10\n",
    "# Reward payoff\n",
    "rwrd = 7\n",
    "# Punishment payoff\n",
    "pnsh = 0\n",
    "# Sucker's payoff\n",
    "suck = 0\n",
    "\n",
    "vonNewmannSize = 4\n",
    "mooreSize = 8\n",
    "\n",
    "class Player:\n",
    "\t\"\"\"Class representing a player that will take part in the problems\"\"\"\n",
    "\t# Definition of elements for a player\n",
    "\tneighbourhood = np.empty([0])\n",
    "\t# check if required\n",
    "\tlatice = np.empty([0,0])\n",
    "\tgame = None\n",
    "\n",
    "\tdef __init__(self, neighbourhoodSize, lattice):\n",
    "\t\tself.neighbourhood = np.empty([neighbourhoodSize])\n",
    "\t\tself.lattice = lattice\n",
    "\n",
    "\tdef getNeighbourhood(self):\n",
    "\t\treturn neighbourhood\n",
    "\n",
    "\tdef setNeighbourhood(self, neighbourhood):\n",
    "\t\tself.neighbourhood = neighbourhood\n",
    "\n",
    "\n",
    "class Game:\n",
    "\t\"\"\"Common base class for all games\"\"\"\n",
    "\t# Definition of elements for a game\n",
    "\tnumPlayers = 2 # Number of players. Default 2\n",
    "\tmatrix = None # Game Matrix\n",
    "\tstrategies = None # Possible strategy values for the game. Stored as a dictionary with each entry containing [value, index]. The index corresponds to the one in the matrix of the game\n",
    "\n",
    "\tdef __init__(self, numPlayers, matrix, strategies):\n",
    "\t\tself.numPlayers = numPlayers\n",
    "\t\tself.matrix = matrix\n",
    "\t\tself.strategies = strategies\n",
    "\n",
    "\tdef __init__(self, numPlayers, strategies):\n",
    "\t\tself.numPlayers = numPlayers\n",
    "\t\tself.strategies = strategies\n",
    "\t\tself.matrix = np.empty([len(strategies), len(strategies)])\n",
    "\n",
    "\tdef play(self, strategies):\n",
    "\t\t\"\"\"Method to be extended by child classes. The strategies object correspond to the set of strategy values chosen by the players\"\"\"\n",
    "\t\tlogging.debug('Playing a game')\n",
    "\n",
    "class PrissionersDilema(Game):\n",
    "\t\"\"\"Class to represent the prissioner's dilema game\"\"\"\n",
    "\n",
    "\tdef __init__(self, numPlayers):\n",
    "\t\tsuper().__init__(numPlayers,({\"C\",0},{\"D\",1}))\n",
    "\t\tself.ma\n",
    "\n",
    "\tdef play(self, strategies):\n",
    "\t\tsuper().play(strategies)\n",
    "\n",
    "\n",
    "class Simulator:\n",
    "\t\"\"\"Simulator class in charge of executing the main logic of the application\"\"\"\n",
    "\t# Definition of elements for the simulator\n",
    "\tlattice = None\n",
    "\tgame = None\n",
    "\n",
    "\tdef __initi__(self, latticeSize, game):\n",
    "\t\tself.lattice = initLattice()\n",
    "\t\tself.game = game\n",
    "\n",
    "\tdef initLattice(self):\n",
    "\t\tlattice = np.empty([latticeSize, latticeSize])\n",
    "\t\tlattice.fill(Player())\n"
   ]
  },
  {
   "cell_type": "code",
   "execution_count": 24,
   "metadata": {
    "collapsed": false
   },
   "outputs": [
    {
     "name": "stdout",
     "output_type": "stream",
     "text": [
      "1\n",
      "2\n",
      "[[[ 7  7]\n",
      "  [ 0 10]]\n",
      "\n",
      " [[10  0]\n",
      "  [ 0  0]]]\n",
      "[ 0 10]\n"
     ]
    }
   ],
   "source": [
    "a={\"C\":0, \"D\":1}\n",
    "print(a[\"D\"])\n",
    "print(len(a))\n",
    "\n",
    "# Latice size\n",
    "n = 50\n",
    "# Temptation payoff\n",
    "temp = 10\n",
    "# Reward payoff\n",
    "rwrd = 7\n",
    "# Punishment payoff\n",
    "pnsh = 0\n",
    "# Sucker's payoff\n",
    "suck = 0\n",
    "\n",
    "matrix = np.array([((rwrd, rwrd), (suck, temp)), ((temp, suck), (pnsh, pnsh))])#.reshape(2,2)\n",
    "print(matrix)\n",
    "print(matrix[0][1])\n"
   ]
  }
 ],
 "metadata": {
  "kernelspec": {
   "display_name": "Python 3",
   "language": "python",
   "name": "python3"
  },
  "language_info": {
   "codemirror_mode": {
    "name": "ipython",
    "version": 3
   },
   "file_extension": ".py",
   "mimetype": "text/x-python",
   "name": "python",
   "nbconvert_exporter": "python",
   "pygments_lexer": "ipython3",
   "version": "3.4.5"
  }
 },
 "nbformat": 4,
 "nbformat_minor": 1
}
